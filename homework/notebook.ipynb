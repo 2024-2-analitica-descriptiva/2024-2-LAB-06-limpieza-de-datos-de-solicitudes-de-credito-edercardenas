{
 "cells": [
  {
   "cell_type": "code",
   "execution_count": 1,
   "metadata": {},
   "outputs": [],
   "source": [
    "import pandas as pd\n",
    "import os"
   ]
  },
  {
   "cell_type": "code",
   "execution_count": 2,
   "metadata": {},
   "outputs": [],
   "source": [
    "df = pd.read_csv(\"../files/input/solicitudes_de_credito.csv\", sep=\";\")"
   ]
  },
  {
   "cell_type": "code",
   "execution_count": null,
   "metadata": {},
   "outputs": [],
   "source": [
    "df.info()"
   ]
  },
  {
   "cell_type": "code",
   "execution_count": null,
   "metadata": {},
   "outputs": [],
   "source": [
    "df.describe()"
   ]
  },
  {
   "cell_type": "code",
   "execution_count": null,
   "metadata": {},
   "outputs": [],
   "source": [
    "df.iloc[5100:5150]"
   ]
  },
  {
   "cell_type": "code",
   "execution_count": null,
   "metadata": {},
   "outputs": [],
   "source": [
    "df.fecha_de_beneficio.iloc[5100][2]"
   ]
  },
  {
   "cell_type": "code",
   "execution_count": null,
   "metadata": {},
   "outputs": [],
   "source": [
    "df[df['idea_negocio'].isna()]"
   ]
  },
  {
   "cell_type": "code",
   "execution_count": null,
   "metadata": {},
   "outputs": [],
   "source": [
    "df.iloc[5100:5150]"
   ]
  },
  {
   "cell_type": "code",
   "execution_count": 3,
   "metadata": {},
   "outputs": [],
   "source": [
    "df = df.drop_duplicates()\n",
    "df = df.dropna()"
   ]
  },
  {
   "cell_type": "code",
   "execution_count": 4,
   "metadata": {},
   "outputs": [],
   "source": [
    "df['sexo'] = df['sexo'].str.lower()"
   ]
  },
  {
   "cell_type": "code",
   "execution_count": null,
   "metadata": {},
   "outputs": [],
   "source": [
    "df_sexo = df.groupby('sexo').count()\n",
    "df_sexo"
   ]
  },
  {
   "cell_type": "code",
   "execution_count": null,
   "metadata": {},
   "outputs": [],
   "source": [
    "sum(df.sexo.value_counts().to_list())"
   ]
  },
  {
   "cell_type": "code",
   "execution_count": null,
   "metadata": {},
   "outputs": [],
   "source": [
    "sum([6617, 3589])"
   ]
  },
  {
   "cell_type": "code",
   "execution_count": 6,
   "metadata": {},
   "outputs": [],
   "source": [
    "df['tipo_de_emprendimiento'] = df['tipo_de_emprendimiento'].str.lower()"
   ]
  },
  {
   "cell_type": "code",
   "execution_count": null,
   "metadata": {},
   "outputs": [],
   "source": [
    "df_tipo_de_emprendimiento = df.groupby('tipo_de_emprendimiento').count()\n",
    "df_tipo_de_emprendimiento"
   ]
  },
  {
   "cell_type": "code",
   "execution_count": 8,
   "metadata": {},
   "outputs": [],
   "source": [
    "df['idea_negocio'] = df['idea_negocio'].str.lower().map(lambda x: x.replace(\"_\", \" \").replace(\"-\", \" \").strip())"
   ]
  },
  {
   "cell_type": "code",
   "execution_count": null,
   "metadata": {},
   "outputs": [],
   "source": [
    "df_idea_negocio = df.groupby('idea_negocio').count()\n",
    "df_idea_negocio\n"
   ]
  },
  {
   "cell_type": "code",
   "execution_count": 14,
   "metadata": {},
   "outputs": [],
   "source": [
    "df['barrio'] = df['barrio'].str.lower().map(lambda x: x.replace(\"_\", \" \").replace(\"-\", \" \").strip())"
   ]
  },
  {
   "cell_type": "code",
   "execution_count": null,
   "metadata": {},
   "outputs": [],
   "source": [
    "df_barrio = df.groupby('barrio').count()\n",
    "df_barrio"
   ]
  },
  {
   "cell_type": "code",
   "execution_count": null,
   "metadata": {},
   "outputs": [],
   "source": [
    "df_barrio = df_barrio.sort_values(by='barrio', ascending=True)\n",
    "\n"
   ]
  },
  {
   "cell_type": "code",
   "execution_count": null,
   "metadata": {},
   "outputs": [],
   "source": [
    "a = df_barrio.iloc[180:]\n",
    "a"
   ]
  },
  {
   "cell_type": "code",
   "execution_count": null,
   "metadata": {},
   "outputs": [],
   "source": [
    "# df['fecha_de_beneficio'] = df['fecha_de_beneficio'].apply(lambda x: pd.to_datetime(x, format='%d/%m/%Y') if '/' in x[1:2] else pd.to_datetime(x, format='%Y-%m-%d'))\n",
    "df['fecha_de_beneficio'] = pd.to_datetime(df['fecha_de_beneficio'], format='mixed')"
   ]
  },
  {
   "cell_type": "code",
   "execution_count": null,
   "metadata": {},
   "outputs": [],
   "source": [
    "df['monto_del_credito'] = df['monto_del_credito'].map(lambda x: int(float(x.replace(\",\", \"\").replace(\" \", \"\").replace(\"$\", \"\"))))\n",
    "df.iloc[5100:5150]"
   ]
  },
  {
   "cell_type": "code",
   "execution_count": null,
   "metadata": {},
   "outputs": [],
   "source": [
    "df_lc = df.groupby('línea_credito').count()\n",
    "df_lc"
   ]
  },
  {
   "cell_type": "code",
   "execution_count": 62,
   "metadata": {},
   "outputs": [],
   "source": [
    "df['línea_credito'] = df['línea_credito'].str.lower().map(lambda x: x.replace(\"_\", \" \").replace(\"-\", \" \").strip())"
   ]
  },
  {
   "cell_type": "code",
   "execution_count": null,
   "metadata": {},
   "outputs": [],
   "source": [
    "df_lc = df.groupby('línea_credito').count()\n",
    "df_lc"
   ]
  },
  {
   "cell_type": "code",
   "execution_count": null,
   "metadata": {},
   "outputs": [],
   "source": [
    "df.shape"
   ]
  },
  {
   "cell_type": "code",
   "execution_count": 1,
   "metadata": {},
   "outputs": [],
   "source": [
    "import pandas as pd\n",
    "import os\n"
   ]
  },
  {
   "cell_type": "code",
   "execution_count": 8,
   "metadata": {},
   "outputs": [
    {
     "data": {
      "text/plain": [
       "(10920, 9)"
      ]
     },
     "execution_count": 8,
     "metadata": {},
     "output_type": "execute_result"
    }
   ],
   "source": [
    "df = pd.read_csv(\"../files/input/solicitudes_de_credito.csv\", sep=\";\", index_col=0)\n",
    "df.shape"
   ]
  },
  {
   "cell_type": "code",
   "execution_count": 9,
   "metadata": {},
   "outputs": [
    {
     "name": "stdout",
     "output_type": "stream",
     "text": [
      "<class 'pandas.core.frame.DataFrame'>\n",
      "Index: 10920 entries, 0 to 10919\n",
      "Data columns (total 9 columns):\n",
      " #   Column                  Non-Null Count  Dtype  \n",
      "---  ------                  --------------  -----  \n",
      " 0   sexo                    10920 non-null  object \n",
      " 1   tipo_de_emprendimiento  10818 non-null  object \n",
      " 2   idea_negocio            10920 non-null  object \n",
      " 3   barrio                  10818 non-null  object \n",
      " 4   estrato                 10920 non-null  int64  \n",
      " 5   comuna_ciudadano        10920 non-null  float64\n",
      " 6   fecha_de_beneficio      10920 non-null  object \n",
      " 7   monto_del_credito       10920 non-null  object \n",
      " 8   línea_credito           10920 non-null  object \n",
      "dtypes: float64(1), int64(1), object(7)\n",
      "memory usage: 853.1+ KB\n"
     ]
    }
   ],
   "source": [
    "df.info()\n"
   ]
  },
  {
   "cell_type": "code",
   "execution_count": 10,
   "metadata": {},
   "outputs": [
    {
     "data": {
      "text/plain": [
       "(10716, 9)"
      ]
     },
     "execution_count": 10,
     "metadata": {},
     "output_type": "execute_result"
    }
   ],
   "source": [
    "df.dropna(inplace=True) \n",
    "df.shape"
   ]
  },
  {
   "cell_type": "code",
   "execution_count": 11,
   "metadata": {},
   "outputs": [
    {
     "data": {
      "text/plain": [
       "(10716, 9)"
      ]
     },
     "execution_count": 11,
     "metadata": {},
     "output_type": "execute_result"
    }
   ],
   "source": [
    "df.drop_duplicates()\n",
    "df.shape"
   ]
  },
  {
   "cell_type": "code",
   "execution_count": null,
   "metadata": {},
   "outputs": [],
   "source": [
    "df.info()"
   ]
  },
  {
   "cell_type": "code",
   "execution_count": null,
   "metadata": {},
   "outputs": [],
   "source": [
    "df = df.dropna()\n",
    "df.shape"
   ]
  },
  {
   "cell_type": "code",
   "execution_count": 12,
   "metadata": {},
   "outputs": [],
   "source": [
    "df['sexo'] = df['sexo'].str.lower()\n",
    "df['tipo_de_emprendimiento'] = df['tipo_de_emprendimiento'].str.lower()\n",
    "df['idea_negocio'] = df['idea_negocio'].str.lower().map(lambda x: x.replace(\"_\", \" \").replace(\"-\", \" \").strip())\n",
    "df['barrio'] = df['barrio'].str.lower().map(lambda x: x.replace(\"_\", \" \").replace(\"-\", \" \"))\n",
    "df['fecha_de_beneficio'] = df['fecha_de_beneficio'].map(lambda x: pd.to_datetime(x, format='%d/%m/%Y') if '/' in x[:3] else pd.to_datetime(x, format='%Y/%m/%d'))\n",
    "# df['fecha_de_beneficio'] = df['fecha_de_beneficio'].map(lambda x: pd.to_datetime(x, format='%d/%m/%Y') if '/' in x[:3] else np.nan)\n",
    "df['monto_del_credito'] = df['monto_del_credito'].map(lambda x: int(x.replace(\".00\", \"\").replace(\",\", \"\").replace(\" \", \"\").replace(\"$\", \"\")))\n",
    "df['línea_credito'] = df['línea_credito'].str.lower().map(lambda x: x.replace(\"_\", \" \").replace(\"-\", \" \").strip())"
   ]
  },
  {
   "cell_type": "code",
   "execution_count": 13,
   "metadata": {},
   "outputs": [
    {
     "data": {
      "text/plain": [
       "(10716, 9)"
      ]
     },
     "execution_count": 13,
     "metadata": {},
     "output_type": "execute_result"
    }
   ],
   "source": [
    "df.dropna(inplace=True)\n",
    "df.shape"
   ]
  },
  {
   "cell_type": "code",
   "execution_count": 14,
   "metadata": {},
   "outputs": [
    {
     "data": {
      "text/plain": [
       "(10206, 9)"
      ]
     },
     "execution_count": 14,
     "metadata": {},
     "output_type": "execute_result"
    }
   ],
   "source": [
    "df.drop_duplicates(inplace=True)\n",
    "df.shape"
   ]
  },
  {
   "cell_type": "code",
   "execution_count": null,
   "metadata": {},
   "outputs": [],
   "source": [
    "df.info()"
   ]
  },
  {
   "cell_type": "code",
   "execution_count": 7,
   "metadata": {},
   "outputs": [],
   "source": [
    "df"
   ]
  },
  {
   "cell_type": "code",
   "execution_count": null,
   "metadata": {},
   "outputs": [],
   "source": [
    "df_sexo = df.groupby('sexo').count()\n",
    "df_sexo"
   ]
  },
  {
   "cell_type": "code",
   "execution_count": null,
   "metadata": {},
   "outputs": [],
   "source": [
    "df_tipo_de_emprendimiento = df.groupby('tipo_de_emprendimiento').count()\n",
    "df_tipo_de_emprendimiento"
   ]
  },
  {
   "cell_type": "code",
   "execution_count": null,
   "metadata": {},
   "outputs": [],
   "source": [
    "df_idea_negocio = df.groupby('idea_negocio').count()\n",
    "df_idea_negocio"
   ]
  },
  {
   "cell_type": "code",
   "execution_count": null,
   "metadata": {},
   "outputs": [],
   "source": [
    "df_barrio = df.groupby('barrio').count()\n",
    "df_barrio"
   ]
  },
  {
   "cell_type": "code",
   "execution_count": null,
   "metadata": {},
   "outputs": [],
   "source": [
    "df_fecha = df.groupby('fecha_de_beneficio').count()\n",
    "df_fecha"
   ]
  },
  {
   "cell_type": "code",
   "execution_count": null,
   "metadata": {},
   "outputs": [],
   "source": [
    "\n",
    "df_monto = df.groupby('monto_del_credito').count()\n",
    "df_monto"
   ]
  },
  {
   "cell_type": "code",
   "execution_count": null,
   "metadata": {},
   "outputs": [],
   "source": [
    "df_lc = df.groupby('línea_credito').count()\n",
    "df_lc"
   ]
  },
  {
   "cell_type": "code",
   "execution_count": null,
   "metadata": {},
   "outputs": [],
   "source": [
    "df_p = df.drop_duplicates(subset=['fecha_de_beneficio'])\n",
    "df_p.shape"
   ]
  },
  {
   "cell_type": "code",
   "execution_count": null,
   "metadata": {},
   "outputs": [],
   "source": [
    "\n",
    "df_est = df.groupby('idea_negocio').count()\n",
    "df_est.shape"
   ]
  },
  {
   "cell_type": "code",
   "execution_count": null,
   "metadata": {},
   "outputs": [],
   "source": [
    "a = df[df['idea_negocio'] == 'carpinteria']\n",
    "a"
   ]
  },
  {
   "cell_type": "code",
   "execution_count": null,
   "metadata": {},
   "outputs": [],
   "source": [
    "df.info()"
   ]
  },
  {
   "cell_type": "code",
   "execution_count": null,
   "metadata": {},
   "outputs": [],
   "source": [
    "df_p1 = df.drop_duplicates(subset=['fecha_de_beneficio'])\n",
    "df_p1.shape"
   ]
  },
  {
   "cell_type": "code",
   "execution_count": null,
   "metadata": {},
   "outputs": [],
   "source": [
    "df_fecha = df[['sexo','fecha_de_beneficio']]\n",
    "type(df_fecha)"
   ]
  },
  {
   "cell_type": "code",
   "execution_count": null,
   "metadata": {},
   "outputs": [],
   "source": [
    "df_fecha.head()"
   ]
  },
  {
   "cell_type": "code",
   "execution_count": null,
   "metadata": {},
   "outputs": [],
   "source": [
    "df['fecha_de_beneficio'] = df['fecha_de_beneficio'].map(lambda x: pd.to_datetime(x, format='%d/%m/%Y') if '/' in x[:3] else pd.to_datetime(x, format='%Y/%m/%d'))\n",
    "df_p = df.drop_duplicates(subset=['fecha_de_beneficio'])\n",
    "df_p.shape\n"
   ]
  },
  {
   "cell_type": "code",
   "execution_count": null,
   "metadata": {},
   "outputs": [],
   "source": [
    "a = '13/07/2018'\n",
    "'/' in a[:3]"
   ]
  },
  {
   "cell_type": "code",
   "execution_count": null,
   "metadata": {},
   "outputs": [],
   "source": [
    "type(df['fecha_de_beneficio'].iloc[0])"
   ]
  },
  {
   "cell_type": "code",
   "execution_count": null,
   "metadata": {},
   "outputs": [],
   "source": [
    "a[1]"
   ]
  },
  {
   "cell_type": "code",
   "execution_count": null,
   "metadata": {},
   "outputs": [],
   "source": [
    "df.info()"
   ]
  },
  {
   "cell_type": "code",
   "execution_count": null,
   "metadata": {},
   "outputs": [],
   "source": []
  }
 ],
 "metadata": {
  "kernelspec": {
   "display_name": ".venv",
   "language": "python",
   "name": "python3"
  },
  "language_info": {
   "codemirror_mode": {
    "name": "ipython",
    "version": 3
   },
   "file_extension": ".py",
   "mimetype": "text/x-python",
   "name": "python",
   "nbconvert_exporter": "python",
   "pygments_lexer": "ipython3",
   "version": "3.10.9"
  }
 },
 "nbformat": 4,
 "nbformat_minor": 2
}
